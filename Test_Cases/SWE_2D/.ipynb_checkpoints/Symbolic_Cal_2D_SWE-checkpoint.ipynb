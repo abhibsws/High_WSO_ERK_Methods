{
 "cells": [
  {
   "cell_type": "code",
   "execution_count": 1,
   "id": "c876fba5",
   "metadata": {},
   "outputs": [],
   "source": [
    "import numpy as np\n",
    "import sympy as sp\n",
    "import matplotlib.pyplot as plt\n",
    "from scipy import integrate"
   ]
  },
  {
   "cell_type": "code",
   "execution_count": 2,
   "id": "85428ee0",
   "metadata": {},
   "outputs": [],
   "source": [
    "g = 1; T = 1; eta = 2; \n",
    "R0 = T*np.sqrt(2*g*eta); # initial radius of the mound"
   ]
  },
  {
   "cell_type": "code",
   "execution_count": 4,
   "id": "93805fc1",
   "metadata": {},
   "outputs": [],
   "source": [
    "# Define the mathematical function using sympy package needed for symbolic differentiation\n",
    "# To change differen manufactured solution, just change sp_fun_h, sp_fun_u, and sp_fun_v\n",
    "def fun_h(x,y,t):\n",
    "    return eta*(T**2/(t**2+T**2) - ((x**2+y**2)/R0**2)*(T**2/(t**2+T**2))**2)\n",
    "\n",
    "def fun_u(x,y,t):\n",
    "    return x*t/(t**2+T**2)\n",
    "\n",
    "def fun_v(x,y,t):\n",
    "    return y*t/(t**2+T**2)\n",
    "\n",
    "# Auxiliary functions that will help to define the forcing functions\n",
    "def fun_hu(x,y,t): # this function defines h*u\n",
    "    return fun_h(x,y,t)*fun_u(x,y,t)\n",
    "\n",
    "def fun_hv(x,y,t): # this function defines h*v\n",
    "    return fun_h(x,y,t)*fun_v(x,y,t)\n",
    "\n",
    "def fun_huv(x,y,t): # this function defines h*u*v\n",
    "    return fun_h(x,y,t)*fun_u(x,y,t)*fun_v(x,y,t)\n",
    "\n",
    "def fun_f1(x,y,t): # this function defines h*u^2+0.5*g*h^2\n",
    "    g = 1\n",
    "    return fun_hu(x,y,t)*fun_u(x,y,t) + 0.5*g*fun_h(x,y,t)**2\n",
    "\n",
    "def fun_f2(x,y,t): # this function defines h*v^2+0.5*g*h^2\n",
    "    g = 1\n",
    "    return fun_hv(x,y,t)*fun_v(x,y,t) + 0.5*g*fun_h(x,y,t)**2\n",
    "\n",
    "# Convert the mathematical function to a symbolic function\n",
    "x,y,t = sp.symbols('x y t')\n",
    "\n",
    "sym_fun_h = sp.sympify(fun_h(x,y,t))\n",
    "sym_fun_hu = sp.sympify(fun_hu(x,y,t))\n",
    "sym_fun_hv = sp.sympify(fun_hv(x,y,t))\n",
    "sym_fun_huv = sp.sympify(fun_huv(x,y,t))\n",
    "sym_fun_f1 = sp.sympify(fun_f1(x,y,t))\n",
    "sym_fun_f2 = sp.sympify(fun_f2(x,y,t))\n",
    "\n",
    "# Symbolic forcing functions\n",
    "forcing_f_h = sp.simplify(sp.diff(sym_fun_h,t) + sp.diff(sym_fun_hu,x) + sp.diff(sym_fun_hv,y))\n",
    "forcing_f_hu = sp.simplify(sp.diff(sym_fun_hu,t) + sp.diff(sym_fun_f1,x) + sp.diff(sym_fun_huv,y))\n",
    "forcing_f_hv = sp.simplify(sp.diff(sym_fun_hv,t) + sp.diff(sym_fun_huv,x) + sp.diff(sym_fun_f2,y))"
   ]
  },
  {
   "cell_type": "markdown",
   "id": "f56d20b0",
   "metadata": {},
   "source": [
    "## Point values for the solution functions h(x,y,t), hu(x,y,t), and hv(x,y,t) "
   ]
  },
  {
   "cell_type": "code",
   "execution_count": 5,
   "id": "4ec403df",
   "metadata": {},
   "outputs": [],
   "source": [
    "def fun_h(x,y,t):\n",
    "    return eta*(T**2/(t**2+T**2) - ((x**2+y**2)/R0**2)*(T**2/(t**2+T**2))**2)\n",
    "\n",
    "def fun_hu(x,y,t):\n",
    "    return fun_h(x,y,t)*fun_u(x,y,t)\n",
    "\n",
    "def fun_hv(x,y,t): \n",
    "    return fun_h(x,y,t)*fun_v(x,y,t)"
   ]
  },
  {
   "cell_type": "markdown",
   "id": "469fe474",
   "metadata": {},
   "source": [
    "## Point values for the forcing functions f^h(x,y,t), f^hu(x,y,t), and f^hv(x,y,t)"
   ]
  },
  {
   "cell_type": "code",
   "execution_count": 6,
   "id": "2ae14418",
   "metadata": {
    "scrolled": true
   },
   "outputs": [
    {
     "name": "stdout",
     "output_type": "stream",
     "text": [
      "0 \n",
      "\n",
      "0 \n",
      "\n",
      "0 \n",
      "\n"
     ]
    }
   ],
   "source": [
    "print(forcing_f_h,'\\n')\n",
    "print(forcing_f_hu,'\\n')\n",
    "print(forcing_f_hv,'\\n')"
   ]
  },
  {
   "cell_type": "code",
   "execution_count": 7,
   "id": "76ca19bf",
   "metadata": {},
   "outputs": [],
   "source": [
    "def f_h(x,y,t):\n",
    "    return 0\n",
    "\n",
    "def f_hu(x,y,t):\n",
    "    return 0\n",
    "\n",
    "def f_hv(x,y,t):\n",
    "    return 0"
   ]
  },
  {
   "cell_type": "code",
   "execution_count": null,
   "id": "12376ea8",
   "metadata": {},
   "outputs": [],
   "source": []
  },
  {
   "cell_type": "markdown",
   "id": "ae6cdf69",
   "metadata": {},
   "source": [
    "## Double integral for the solution functions h(x,y,t), hu(x,y,t), and hv(x,y,t) : required for the initial condition, boundary conditions, and to compare the numerical solution with the true cell averages."
   ]
  },
  {
   "cell_type": "code",
   "execution_count": 8,
   "id": "3b922dec",
   "metadata": {},
   "outputs": [
    {
     "name": "stdout",
     "output_type": "stream",
     "text": [
      "x*y*(6.0*t**2 - 0.5*x**2 - 0.5*y**2 + 6.0)/(3.0*t**4 + 6.0*t**2 + 3.0)\n"
     ]
    },
    {
     "data": {
      "text/latex": [
       "$\\displaystyle - \\frac{0.5 x y^{3}}{3.0 t^{4} + 6.0 t^{2} + 3.0} + \\frac{y \\left(6.0 t^{2} x - 0.5 x^{3} + 6.0 x\\right)}{3.0 t^{4} + 6.0 t^{2} + 3.0}$"
      ],
      "text/plain": [
       "-0.5*x*y**3/(3.0*t**4 + 6.0*t**2 + 3.0) + y*(6.0*t**2*x - 0.5*x**3 + 6.0*x)/(3.0*t**4 + 6.0*t**2 + 3.0)"
      ]
     },
     "execution_count": 8,
     "metadata": {},
     "output_type": "execute_result"
    }
   ],
   "source": [
    "# double integral of the function h(x,y,t) w.r.t x and y\n",
    "x_int_h = sp.integrate(sym_fun_h, x)\n",
    "y_x_int_h = sp.integrate(x_int_h, y)\n",
    "\n",
    "print(sp.simplify(y_x_int_h))\n",
    "y_x_int_h"
   ]
  },
  {
   "cell_type": "code",
   "execution_count": 9,
   "id": "1f086b9d",
   "metadata": {},
   "outputs": [
    {
     "name": "stdout",
     "output_type": "stream",
     "text": [
      "t*x**2*y*(48.0*t**2 - 6.0*x**2 - 4.0*y**2 + 48.0)/(48.0*t**6 + 144.0*t**4 + 144.0*t**2 + 48.0)\n"
     ]
    },
    {
     "data": {
      "text/latex": [
       "$\\displaystyle - \\frac{0.5 t x^{2} y^{3}}{6.0 t^{6} + 18.0 t^{4} + 18.0 t^{2} + 6.0} + \\frac{y \\left(8.0 t^{3} x^{2} - 1.0 t x^{4} + 8.0 t x^{2}\\right)}{8.0 t^{6} + 24.0 t^{4} + 24.0 t^{2} + 8.0}$"
      ],
      "text/plain": [
       "-0.5*t*x**2*y**3/(6.0*t**6 + 18.0*t**4 + 18.0*t**2 + 6.0) + y*(8.0*t**3*x**2 - 1.0*t*x**4 + 8.0*t*x**2)/(8.0*t**6 + 24.0*t**4 + 24.0*t**2 + 8.0)"
      ]
     },
     "execution_count": 9,
     "metadata": {},
     "output_type": "execute_result"
    }
   ],
   "source": [
    "# double integral of the function hu(x,y,t) w.r.t x and y\n",
    "x_int_hu = sp.integrate(sym_fun_hu, x)\n",
    "y_x_int_hu = sp.integrate(x_int_hu, y)\n",
    "\n",
    "print(sp.simplify(y_x_int_hu))\n",
    "y_x_int_hu"
   ]
  },
  {
   "cell_type": "code",
   "execution_count": 10,
   "id": "435308b8",
   "metadata": {
    "scrolled": true
   },
   "outputs": [
    {
     "name": "stdout",
     "output_type": "stream",
     "text": [
      "t*x*y**2*(24.0*t**2 - 2.0*x**2 - 3.0*y**2 + 24.0)/(24.0*t**6 + 72.0*t**4 + 72.0*t**2 + 24.0)\n"
     ]
    },
    {
     "data": {
      "text/latex": [
       "$\\displaystyle - \\frac{0.5 t x y^{4}}{4.0 t^{6} + 12.0 t^{4} + 12.0 t^{2} + 4.0} + \\frac{y^{2} \\cdot \\left(6.0 t^{3} x - 0.5 t x^{3} + 6.0 t x\\right)}{6.0 t^{6} + 18.0 t^{4} + 18.0 t^{2} + 6.0}$"
      ],
      "text/plain": [
       "-0.5*t*x*y**4/(4.0*t**6 + 12.0*t**4 + 12.0*t**2 + 4.0) + y**2*(6.0*t**3*x - 0.5*t*x**3 + 6.0*t*x)/(6.0*t**6 + 18.0*t**4 + 18.0*t**2 + 6.0)"
      ]
     },
     "execution_count": 10,
     "metadata": {},
     "output_type": "execute_result"
    }
   ],
   "source": [
    "# double integral of the function h(x,y,t) w.r.t x and y\n",
    "x_int_hv = sp.integrate(sym_fun_hv, x)\n",
    "y_x_int_hv = sp.integrate(x_int_hv, y)\n",
    "\n",
    "print(sp.simplify(y_x_int_hv))\n",
    "y_x_int_hv"
   ]
  },
  {
   "cell_type": "markdown",
   "id": "1001a7fd",
   "metadata": {},
   "source": [
    "#### Double integral of the solution functions defined as functions"
   ]
  },
  {
   "cell_type": "code",
   "execution_count": 11,
   "id": "efd4f5a2",
   "metadata": {},
   "outputs": [],
   "source": [
    "def d_int_h(x,y,t):\n",
    "    return x*y*(6.0*t**2 - 0.5*x**2 - 0.5*y**2 + 6.0)/(3.0*t**4 + 6.0*t**2 + 3.0)\n",
    "\n",
    "def d_int_hu(x,y,t):\n",
    "    return t*x**2*y*(48.0*t**2 - 6.0*x**2 - 4.0*y**2 + 48.0)/(48.0*t**6 + 144.0*t**4 + 144.0*t**2 + 48.0)\n",
    "\n",
    "def d_int_hv(x,y,t):\n",
    "    return t*x*y**2*(24.0*t**2 - 2.0*x**2 - 3.0*y**2 + 24.0)/(24.0*t**6 + 72.0*t**4 + 72.0*t**2 + 24.0)"
   ]
  },
  {
   "cell_type": "code",
   "execution_count": null,
   "id": "d7d928f7",
   "metadata": {},
   "outputs": [],
   "source": []
  },
  {
   "cell_type": "markdown",
   "id": "4807e78d",
   "metadata": {},
   "source": [
    "## Double integral for the forcing functions f^h(x,y,t), f^hu(x,y,t), and f^hv(x,y,t)"
   ]
  },
  {
   "cell_type": "code",
   "execution_count": 12,
   "id": "7a69d5a1",
   "metadata": {},
   "outputs": [
    {
     "name": "stdout",
     "output_type": "stream",
     "text": [
      "0\n"
     ]
    },
    {
     "data": {
      "text/latex": [
       "$\\displaystyle 0$"
      ],
      "text/plain": [
       "0"
      ]
     },
     "execution_count": 12,
     "metadata": {},
     "output_type": "execute_result"
    }
   ],
   "source": [
    "# double integral of the forcing function f_h\n",
    "x_int_forcing_f_h = sp.integrate(forcing_f_h, x)\n",
    "y_x_int_forcing_f_h = sp.integrate(x_int_forcing_f_h, y)\n",
    "\n",
    "print(y_x_int_forcing_f_h)\n",
    "y_x_int_forcing_f_h"
   ]
  },
  {
   "cell_type": "code",
   "execution_count": 13,
   "id": "f52a89b5",
   "metadata": {
    "scrolled": true
   },
   "outputs": [
    {
     "name": "stdout",
     "output_type": "stream",
     "text": [
      "0\n"
     ]
    },
    {
     "data": {
      "text/latex": [
       "$\\displaystyle 0$"
      ],
      "text/plain": [
       "0"
      ]
     },
     "execution_count": 13,
     "metadata": {},
     "output_type": "execute_result"
    }
   ],
   "source": [
    "# double integral of the forcing function f_h\n",
    "x_int_forcing_f_hu = sp.integrate(forcing_f_hu, x)\n",
    "y_x_int_forcing_f_hu = sp.integrate(x_int_forcing_f_hu, y)\n",
    "\n",
    "print(y_x_int_forcing_f_hu)\n",
    "y_x_int_forcing_f_hu"
   ]
  },
  {
   "cell_type": "code",
   "execution_count": 14,
   "id": "301da52e",
   "metadata": {},
   "outputs": [
    {
     "name": "stdout",
     "output_type": "stream",
     "text": [
      "0\n"
     ]
    },
    {
     "data": {
      "text/latex": [
       "$\\displaystyle 0$"
      ],
      "text/plain": [
       "0"
      ]
     },
     "execution_count": 14,
     "metadata": {},
     "output_type": "execute_result"
    }
   ],
   "source": [
    "# double integral of the forcing function f_h\n",
    "x_int_forcing_f_hv = sp.integrate(forcing_f_hv, x)\n",
    "y_x_int_forcing_f_hv = sp.integrate(x_int_forcing_f_hv, y)\n",
    "\n",
    "print(y_x_int_forcing_f_hv)\n",
    "y_x_int_forcing_f_hv"
   ]
  },
  {
   "cell_type": "markdown",
   "id": "b1655d47",
   "metadata": {},
   "source": [
    "#### Double integral of the forcing functions defined as functions "
   ]
  },
  {
   "cell_type": "code",
   "execution_count": 15,
   "id": "7737aa0a",
   "metadata": {},
   "outputs": [],
   "source": [
    "def d_int_f_h(x,y,t):\n",
    "    return 0\n",
    "\n",
    "def d_int_f_hu(x,y,t):\n",
    "    return 0\n",
    "\n",
    "def d_int_f_hv(x,y,t):\n",
    "    return 0"
   ]
  },
  {
   "cell_type": "markdown",
   "id": "99f829ac",
   "metadata": {},
   "source": [
    "# Comparison between point values and the cell average for both the solution functions and the forcing functions"
   ]
  },
  {
   "cell_type": "code",
   "execution_count": 16,
   "id": "881d87b6",
   "metadata": {},
   "outputs": [],
   "source": [
    "xi = 0.5; yi = 0.5; t0 = 0; dx = 0.01; dy = 0.01"
   ]
  },
  {
   "cell_type": "markdown",
   "id": "3779741d",
   "metadata": {},
   "source": [
    "#### Solution functions"
   ]
  },
  {
   "cell_type": "code",
   "execution_count": 17,
   "id": "344a8926",
   "metadata": {},
   "outputs": [
    {
     "name": "stdout",
     "output_type": "stream",
     "text": [
      "Point value of h at (xi,yi) = 1.7500 \n",
      "\n",
      "Point value of hu at (xi,yi) = 0.0000 \n",
      "\n",
      "Point value of hv at (xi,yi) = 0.0000 \n",
      "\n"
     ]
    }
   ],
   "source": [
    "print('Point value of h at (xi,yi) = %.4f \\n'%fun_h(xi,yi,t0))\n",
    "print('Point value of hu at (xi,yi) = %.4f \\n'%fun_hu(xi,yi,t0))\n",
    "print('Point value of hv at (xi,yi) = %.4f \\n'%fun_hv(xi,yi,t0))"
   ]
  },
  {
   "cell_type": "code",
   "execution_count": 18,
   "id": "cc68967f",
   "metadata": {},
   "outputs": [
    {
     "name": "stdout",
     "output_type": "stream",
     "text": [
      "Cell average for h at (xi,yi) = 1.7500 \n",
      "\n",
      "Cell average for hu at (xi,yi) = 0.0000 \n",
      "\n",
      "Cell average for hv at (xi,yi) = 0.0000 \n",
      "\n"
     ]
    }
   ],
   "source": [
    "cell_avg_h = (d_int_h(xi+dx/2,yi+dy/2,t0) + d_int_h(xi-dx/2,yi-dy/2,t0) - d_int_h(xi+dx/2,yi-dy/2,t0) \\\n",
    " - d_int_h(xi-dx/2,yi+dy/2,t0))/(dx*dy)\n",
    "\n",
    "cell_avg_hu = (d_int_hu(xi+dx/2,yi+dy/2,t0) + d_int_hu(xi-dx/2,yi-dy/2,t0) - d_int_hu(xi+dx/2,yi-dy/2,t0) \\\n",
    " - d_int_hu(xi-dx/2,yi+dy/2,t0))/(dx*dy)\n",
    "\n",
    "cell_avg_hv = (d_int_hv(xi+dx/2,yi+dy/2,t0) + d_int_hv(xi-dx/2,yi-dy/2,t0) - d_int_hv(xi+dx/2,yi-dy/2,t0) \\\n",
    " - d_int_hv(xi-dx/2,yi+dy/2,t0))/(dx*dy)\n",
    "\n",
    "print('Cell average for h at (xi,yi) = %.4f \\n'%cell_avg_h)\n",
    "print('Cell average for hu at (xi,yi) = %.4f \\n'%cell_avg_hu)\n",
    "print('Cell average for hv at (xi,yi) = %.4f \\n'%cell_avg_hv)"
   ]
  },
  {
   "cell_type": "markdown",
   "id": "f8b9a85f",
   "metadata": {},
   "source": [
    "#### Forcing functions"
   ]
  },
  {
   "cell_type": "code",
   "execution_count": 19,
   "id": "ce565dcc",
   "metadata": {},
   "outputs": [
    {
     "name": "stdout",
     "output_type": "stream",
     "text": [
      "Point value of f^h at (xi,yi) = 0.0000 \n",
      "\n",
      "Point value of f^hu at (xi,yi) = 0.0000 \n",
      "\n",
      "Point value of f^hv at (xi,yi) = 0.0000 \n",
      "\n"
     ]
    }
   ],
   "source": [
    "print('Point value of f^h at (xi,yi) = %.4f \\n'%f_h(xi,yi,t0))\n",
    "print('Point value of f^hu at (xi,yi) = %.4f \\n'%f_hu(xi,yi,t0))\n",
    "print('Point value of f^hv at (xi,yi) = %.4f \\n'%f_hv(xi,yi,t0))"
   ]
  },
  {
   "cell_type": "code",
   "execution_count": 20,
   "id": "9052c3b5",
   "metadata": {},
   "outputs": [
    {
     "name": "stdout",
     "output_type": "stream",
     "text": [
      "Cell average for f^h at (xi,yi) = 0.0000 \n",
      "\n",
      "Cell average for f^hu at (xi,yi) = 0.0000 \n",
      "\n",
      "Cell average for f^hv at (xi,yi) = 0.0000 \n",
      "\n"
     ]
    }
   ],
   "source": [
    "# this confirms that the cell averages for the forcing are correctly calculated\n",
    "cell_avg_f_h = (d_int_f_h(xi+dx/2,yi+dy/2,t0) + d_int_f_h(xi-dx/2,yi-dy/2,t0) - d_int_f_h(xi+dx/2,yi-dy/2,t0) \\\n",
    " - d_int_f_h(xi-dx/2,yi+dy/2,t0))/(dx*dy)\n",
    "\n",
    "cell_avg_f_hu = (d_int_f_hu(xi+dx/2,yi+dy/2,t0) + d_int_f_hu(xi-dx/2,yi-dy/2,t0) - d_int_f_hu(xi+dx/2,yi-dy/2,t0) \\\n",
    " - d_int_f_hu(xi-dx/2,yi+dy/2,t0))/(dx*dy)\n",
    "\n",
    "cell_avg_f_hv = (d_int_f_hv(xi+dx/2,yi+dy/2,t0) + d_int_f_hv(xi-dx/2,yi-dy/2,t0) - d_int_f_hv(xi+dx/2,yi-dy/2,t0) \\\n",
    " - d_int_f_hv(xi-dx/2,yi+dy/2,t0))/(dx*dy)\n",
    "\n",
    "print('Cell average for f^h at (xi,yi) = %.4f \\n'%cell_avg_f_h)\n",
    "print('Cell average for f^hu at (xi,yi) = %.4f \\n'%cell_avg_f_hu)\n",
    "print('Cell average for f^hv at (xi,yi) = %.4f \\n'%cell_avg_f_hv)"
   ]
  },
  {
   "cell_type": "markdown",
   "id": "6daa97e6",
   "metadata": {},
   "source": [
    "### Compute the double integral numerically and verify"
   ]
  },
  {
   "cell_type": "code",
   "execution_count": 21,
   "id": "d41dd6c1",
   "metadata": {},
   "outputs": [],
   "source": [
    "math_forcing_f_h = sp.lambdify((x,y,t),forcing_f_h) # making the function mathematical\n",
    "math_forcing_f_hu = sp.lambdify((x,y,t),forcing_f_hu)\n",
    "math_forcing_f_hv = sp.lambdify((x,y,t),forcing_f_hv)"
   ]
  },
  {
   "cell_type": "code",
   "execution_count": 22,
   "id": "3aa67781",
   "metadata": {},
   "outputs": [
    {
     "name": "stdout",
     "output_type": "stream",
     "text": [
      "0.0\n"
     ]
    }
   ],
   "source": [
    "from scipy import integrate\n",
    "\n",
    "x_low = xi-dx/2; x_up = xi+dx/2\n",
    "y_low = yi-dy/2; y_up = yi+dy/2\n",
    "\n",
    "# Compute the double integral\n",
    "result_h, error_h = integrate.dblquad(lambda y, x: math_forcing_f_h(x, y, t0), x_low,x_up,y_low,y_up)\n",
    "\n",
    "# Print the result\n",
    "print(result_h/(dx*dy))\n"
   ]
  },
  {
   "cell_type": "code",
   "execution_count": 23,
   "id": "2f37838d",
   "metadata": {},
   "outputs": [
    {
     "name": "stdout",
     "output_type": "stream",
     "text": [
      "0.0\n"
     ]
    }
   ],
   "source": [
    "x_low = xi-dx/2; x_up = xi+dx/2\n",
    "y_low = yi-dy/2; y_up = yi+dy/2\n",
    "\n",
    "# Compute the double integral\n",
    "result_hu, error_hu = integrate.dblquad(lambda y, x: math_forcing_f_hu(x, y, t0), x_low,x_up,y_low,y_up)\n",
    "\n",
    "# Print the result\n",
    "print(result_hu/(dx*dy))"
   ]
  },
  {
   "cell_type": "code",
   "execution_count": 24,
   "id": "aa77d6fc",
   "metadata": {},
   "outputs": [
    {
     "name": "stdout",
     "output_type": "stream",
     "text": [
      "0.0\n"
     ]
    }
   ],
   "source": [
    "x_low = xi-dx/2; x_up = xi+dx/2\n",
    "y_low = yi-dy/2; y_up = yi+dy/2\n",
    "\n",
    "# Compute the double integral\n",
    "result_hv, error_hv = integrate.dblquad(lambda y, x: math_forcing_f_hv(x, y, t0), x_low,x_up,y_low,y_up)\n",
    "\n",
    "# Print the result\n",
    "print(result_hv/(dx*dy))"
   ]
  },
  {
   "cell_type": "markdown",
   "id": "5f3f7a6c",
   "metadata": {},
   "source": []
  },
  {
   "cell_type": "code",
   "execution_count": null,
   "id": "1c769828",
   "metadata": {},
   "outputs": [],
   "source": []
  }
 ],
 "metadata": {
  "kernelspec": {
   "display_name": "Python 3 (ipykernel)",
   "language": "python",
   "name": "python3"
  },
  "language_info": {
   "codemirror_mode": {
    "name": "ipython",
    "version": 3
   },
   "file_extension": ".py",
   "mimetype": "text/x-python",
   "name": "python",
   "nbconvert_exporter": "python",
   "pygments_lexer": "ipython3",
   "version": "3.10.10"
  }
 },
 "nbformat": 4,
 "nbformat_minor": 5
}
