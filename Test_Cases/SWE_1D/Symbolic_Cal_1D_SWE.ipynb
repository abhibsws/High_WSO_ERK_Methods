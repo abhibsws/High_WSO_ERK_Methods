{
 "cells": [
  {
   "cell_type": "code",
   "execution_count": 1,
   "id": "2c02d521",
   "metadata": {},
   "outputs": [],
   "source": [
    "import numpy as np\n",
    "import sympy as sp\n",
    "import matplotlib.pyplot as plt\n",
    "from scipy import integrate"
   ]
  },
  {
   "cell_type": "code",
   "execution_count": 2,
   "id": "c406829d",
   "metadata": {},
   "outputs": [],
   "source": [
    "# Define the mathematical function using sympy package needed for symbolic differentiation\n",
    "# To change differen manufactured solution, just change sp_fun_h and sp_fun_u\n",
    "def sp_fun_h(x,t):\n",
    "    return (1+x)/(1+t)\n",
    "\n",
    "def sp_fun_u(x,t): \n",
    "    return (1+x**2)/(0.5+t)\n",
    "\n",
    "# two flux functions for mass and momentum\n",
    "def sp_fun_flux1(x,t):\n",
    "    return sp_fun_h(x,t)*sp_fun_u(x,t)\n",
    "\n",
    "def sp_fun_flux2(x,t):\n",
    "    g = 1\n",
    "    return sp_fun_flux1(x,t)*sp_fun_u(x,t) + 0.5*g*sp_fun_h(x,t)**2\n",
    "\n",
    "# Convert the mathematical function to a symbolic function\n",
    "x, t = sp.symbols('x t')\n",
    "sym_fun_h = sp.sympify(sp_fun_h(x,t))\n",
    "sym_fun_flux1 = sp.sympify(sp_fun_flux1(x,t))\n",
    "sym_fun_flux2 = sp.sympify(sp_fun_flux2(x,t))\n",
    "\n",
    "# Symbolic forcing functions\n",
    "forcing_fun_h = sp.diff(sym_fun_h,t) + sp.diff(sym_fun_flux1,x)\n",
    "forcing_fun_hu = sp.diff(sym_fun_flux1,t) + sp.diff(sym_fun_flux2,x)"
   ]
  },
  {
   "cell_type": "code",
   "execution_count": 10,
   "id": "8ed9917f",
   "metadata": {},
   "outputs": [
    {
     "name": "stdout",
     "output_type": "stream",
     "text": [
      "2*x*(x + 1)/((t + 0.5)*(t + 1)) - (x + 1)/(t + 1)**2 + (x**2 + 1)/((t + 0.5)*(t + 1))\n"
     ]
    }
   ],
   "source": [
    "print(forcing_fun_h)"
   ]
  },
  {
   "cell_type": "code",
   "execution_count": 11,
   "id": "7c80612c",
   "metadata": {},
   "outputs": [
    {
     "name": "stdout",
     "output_type": "stream",
     "text": [
      "4*x*(x + 1)*(x**2 + 1)/((t + 0.5)**2*(t + 1)) + 0.5*(2*x + 2)/(t + 1)**2 - (x + 1)*(x**2 + 1)/((t + 0.5)*(t + 1)**2) - (x + 1)*(x**2 + 1)/((t + 0.5)**2*(t + 1)) + (x**2 + 1)**2/((t + 0.5)**2*(t + 1))\n"
     ]
    }
   ],
   "source": [
    "print(forcing_fun_hu)"
   ]
  },
  {
   "cell_type": "code",
   "execution_count": 12,
   "id": "e38c7895",
   "metadata": {},
   "outputs": [],
   "source": [
    "def forcing_h(x,t):\n",
    "    return 2*x*(x + 1)/((t + 0.5)*(t + 1)) - (x + 1)/(t + 1)**2 + (x**2 + 1)/((t + 0.5)*(t + 1))\n",
    "\n",
    "def forcing_hu(x,t):\n",
    "    return 4*x*(x + 1)*(x**2 + 1)/((t + 0.5)**2*(t + 1)) + 0.5*(2*x + 2)/(t + 1)**2 - (x + 1)*(x**2 + 1)/((t + 0.5)*(t + 1)**2) - (x + 1)*(x**2 + 1)/((t + 0.5)**2*(t + 1)) + (x**2 + 1)**2/((t + 0.5)**2*(t + 1))"
   ]
  },
  {
   "cell_type": "code",
   "execution_count": 4,
   "id": "75255717",
   "metadata": {},
   "outputs": [],
   "source": [
    "int_forcing_fun_h = sp.integrate(forcing_fun_h, x) # symbolic integration\n",
    "int_forcing_fun_hu = sp.integrate(forcing_fun_hu, x)"
   ]
  },
  {
   "cell_type": "code",
   "execution_count": 5,
   "id": "8abf2209",
   "metadata": {},
   "outputs": [
    {
     "name": "stdout",
     "output_type": "stream",
     "text": [
      "3.0*x**3/(3.0*t**2 + 4.5*t + 1.5) + x**2*(1.0*t + 1.5)/(2.0*t**3 + 5.0*t**2 + 4.0*t + 1.0) + 0.5*x/(1.0*t**3 + 2.5*t**2 + 2.0*t + 0.5)\n"
     ]
    }
   ],
   "source": [
    "print(sp.integrate(forcing_fun_h, x)) # print symbolic integration"
   ]
  },
  {
   "cell_type": "code",
   "execution_count": null,
   "id": "a1725022",
   "metadata": {},
   "outputs": [],
   "source": []
  },
  {
   "cell_type": "code",
   "execution_count": 6,
   "id": "82f5f2d0",
   "metadata": {},
   "outputs": [
    {
     "name": "stdout",
     "output_type": "stream",
     "text": [
      "5.0*x**5/(5.0*t**3 + 10.0*t**2 + 6.25*t + 1.25) + x**4*(2.0*t + 2.5)/(4.0*t**4 + 12.0*t**3 + 13.0*t**2 + 6.0*t + 1.0) + x**3*(4.0*t + 4.5)/(3.0*t**4 + 9.0*t**3 + 9.75*t**2 + 4.5*t + 0.75) + x**2*(1.0*t**2 + 3.0*t + 2.75)/(2.0*t**4 + 6.0*t**3 + 6.5*t**2 + 3.0*t + 0.5) + x*(1.0*t - 0.5)/(1.0*t**3 + 2.5*t**2 + 2.0*t + 0.5)\n"
     ]
    }
   ],
   "source": [
    "print(sp.integrate(forcing_fun_hu, x)) # print symbolic integration"
   ]
  },
  {
   "cell_type": "code",
   "execution_count": 7,
   "id": "f8cdb6c4",
   "metadata": {},
   "outputs": [],
   "source": [
    "def int_fun_forcing_h(x,t):\n",
    "    return (3.0*x**3/(3.0*t**2 + 4.5*t + 1.5) + x**2*(1.0*t + 1.5)/(2.0*t**3 + 5.0*t**2 + 4.0*t + 1.0) + 0.5*x/(1.0*t**3 + 2.5*t**2 + 2.0*t + 0.5))\n",
    "\n",
    "def int_fun_forcing_hu(x,t):\n",
    "    return (5.0*x**5/(5.0*t**3 + 10.0*t**2 + 6.25*t + 1.25) + x**4*(2.0*t + 2.5)/(4.0*t**4 + 12.0*t**3 + 13.0*t**2 + 6.0*t + 1.0) + x**3*(4.0*t + 4.5)/(3.0*t**4 + 9.0*t**3 + 9.75*t**2 + 4.5*t + 0.75) + x**2*(1.0*t**2 + 3.0*t + 2.75)/(2.0*t**4 + 6.0*t**3 + 6.5*t**2 + 3.0*t + 0.5) + x*(1.0*t - 0.5)/(1.0*t**3 + 2.5*t**2 + 2.0*t + 0.5))"
   ]
  },
  {
   "cell_type": "code",
   "execution_count": 15,
   "id": "a759408e",
   "metadata": {},
   "outputs": [
    {
     "name": "stdout",
     "output_type": "stream",
     "text": [
      "Cell average for f^h at xi = 0.829020 \n",
      "\n",
      "Cell average for f^hu at xi = 1.382633 \n",
      "\n"
     ]
    }
   ],
   "source": [
    "xi = 0.5; t0 = .7; dx = 0.01\n",
    "cell_avg_f_h = (int_fun_forcing_h(xi+dx/2,t0)-int_fun_forcing_h(xi-dx/2,t0))/dx\n",
    "cell_avg_f_hu = (int_fun_forcing_hu(xi+dx/2,t0)-int_fun_forcing_hu(xi-dx/2,t0))/dx\n",
    "print('Cell average for f^h at xi = %.6f \\n'%cell_avg_f_h)\n",
    "print('Cell average for f^hu at xi = %.6f \\n'%cell_avg_f_hu)\n"
   ]
  },
  {
   "cell_type": "code",
   "execution_count": 16,
   "id": "97445e60",
   "metadata": {},
   "outputs": [
    {
     "name": "stdout",
     "output_type": "stream",
     "text": [
      "Function value of f^h at xi = 0.829008 \n",
      "\n",
      "Function value of f^hu at xi = 1.382581 \n",
      "\n"
     ]
    }
   ],
   "source": [
    "print('Function value of f^h at xi = %.6f \\n'%forcing_h(xi,t0))\n",
    "print('Function value of f^hu at xi = %.6f \\n'%forcing_hu(xi,t0))"
   ]
  },
  {
   "cell_type": "code",
   "execution_count": null,
   "id": "e21486f7",
   "metadata": {},
   "outputs": [],
   "source": []
  }
 ],
 "metadata": {
  "kernelspec": {
   "display_name": "Python 3 (ipykernel)",
   "language": "python",
   "name": "python3"
  },
  "language_info": {
   "codemirror_mode": {
    "name": "ipython",
    "version": 3
   },
   "file_extension": ".py",
   "mimetype": "text/x-python",
   "name": "python",
   "nbconvert_exporter": "python",
   "pygments_lexer": "ipython3",
   "version": "3.10.10"
  }
 },
 "nbformat": 4,
 "nbformat_minor": 5
}
