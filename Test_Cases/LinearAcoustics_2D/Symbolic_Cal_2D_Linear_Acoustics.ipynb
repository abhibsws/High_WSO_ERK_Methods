{
 "cells": [
  {
   "cell_type": "code",
   "execution_count": 1,
   "id": "c876fba5",
   "metadata": {},
   "outputs": [],
   "source": [
    "import numpy as np\n",
    "import sympy as sp\n",
    "import matplotlib.pyplot as plt\n",
    "from scipy import integrate"
   ]
  },
  {
   "cell_type": "code",
   "execution_count": 2,
   "id": "3a16063f",
   "metadata": {},
   "outputs": [],
   "source": [
    "# parameters\n",
    "rho0 = 1; K0 = 4"
   ]
  },
  {
   "cell_type": "code",
   "execution_count": 3,
   "id": "93805fc1",
   "metadata": {},
   "outputs": [],
   "source": [
    "# Change here for different manufactured solutions\n",
    "def fun_p(x,y,t):\n",
    "    return (1+x+y)/(1+t)\n",
    "\n",
    "def fun_u(x,y,t):\n",
    "    return x*t/(1+t)\n",
    "\n",
    "def fun_v(x,y,t):\n",
    "    return y*t/(1+t)\n",
    "\n",
    "# Convert the mathematical function to a symbolic function\n",
    "x,y,t = sp.symbols('x y t')\n",
    "\n",
    "sym_fun_p = sp.sympify(fun_p(x,y,t))\n",
    "sym_fun_u = sp.sympify(fun_u(x,y,t))\n",
    "sym_fun_v = sp.sympify(fun_v(x,y,t))\n",
    "\n",
    "\n",
    "# Symbolic forcing functions\n",
    "forcing_f_p = sp.sympify(sp.diff(sym_fun_p,t) + K0*sp.diff(sym_fun_u,x) + K0*sp.diff(sym_fun_v,y))\n",
    "forcing_f_u = sp.sympify(sp.diff(sym_fun_u,t) + sp.diff(sym_fun_p,x)/rho0)\n",
    "forcing_f_v = sp.sympify(sp.diff(sym_fun_v,t) + sp.diff(sym_fun_p,y)/rho0) "
   ]
  },
  {
   "cell_type": "markdown",
   "id": "469fe474",
   "metadata": {},
   "source": [
    "## Point values for the forcing functions f^h(x,y,t), f^hu(x,y,t), and f^hv(x,y,t)"
   ]
  },
  {
   "cell_type": "code",
   "execution_count": 4,
   "id": "2ae14418",
   "metadata": {},
   "outputs": [
    {
     "name": "stdout",
     "output_type": "stream",
     "text": [
      "8*t/(t + 1) - (x + y + 1)/(t + 1)**2 \n",
      "\n",
      "-t*x/(t + 1)**2 + x/(t + 1) + 1/(t + 1) \n",
      "\n",
      "-t*y/(t + 1)**2 + y/(t + 1) + 1/(t + 1) \n",
      "\n"
     ]
    }
   ],
   "source": [
    "print(forcing_f_p,'\\n')\n",
    "print(forcing_f_u,'\\n')\n",
    "print(forcing_f_v,'\\n')"
   ]
  },
  {
   "cell_type": "code",
   "execution_count": 5,
   "id": "76ca19bf",
   "metadata": {},
   "outputs": [],
   "source": [
    "def f_p(x,y,t):\n",
    "    return 8*t/(t + 1) - (x + y + 1)/(t + 1)**2\n",
    "\n",
    "def f_u(x,y,t):\n",
    "    return -t*x/(t + 1)**2 + x/(t + 1) + 1/(t + 1) \n",
    "\n",
    "def f_v(x,y,t):\n",
    "    return -t*y/(t + 1)**2 + y/(t + 1) + 1/(t + 1) "
   ]
  },
  {
   "cell_type": "code",
   "execution_count": null,
   "id": "12376ea8",
   "metadata": {},
   "outputs": [],
   "source": []
  },
  {
   "cell_type": "markdown",
   "id": "ae6cdf69",
   "metadata": {},
   "source": [
    "## Double integral for the solution functions p(x,y,t), u(x,y,t), and v(x,y,t) : required for the initial condition, boundary conditions, and to compare the numerical solution with the true cell averages."
   ]
  },
  {
   "cell_type": "code",
   "execution_count": 6,
   "id": "3b922dec",
   "metadata": {},
   "outputs": [
    {
     "name": "stdout",
     "output_type": "stream",
     "text": [
      "x*y**2/(2*t + 2) + y*(x**2 + 2*x)/(2*t + 2)\n"
     ]
    },
    {
     "data": {
      "text/latex": [
       "$\\displaystyle \\frac{x y^{2}}{2 t + 2} + \\frac{y \\left(x^{2} + 2 x\\right)}{2 t + 2}$"
      ],
      "text/plain": [
       "x*y**2/(2*t + 2) + y*(x**2 + 2*x)/(2*t + 2)"
      ]
     },
     "execution_count": 6,
     "metadata": {},
     "output_type": "execute_result"
    }
   ],
   "source": [
    "# double integral of the function p(x,y,t) w.r.t x and y\n",
    "x_int_p = sp.integrate(sym_fun_p, x)\n",
    "y_x_int_p = sp.integrate(x_int_p, y)\n",
    "\n",
    "print(sp.sympify(y_x_int_p))\n",
    "y_x_int_p"
   ]
  },
  {
   "cell_type": "code",
   "execution_count": 7,
   "id": "1f086b9d",
   "metadata": {},
   "outputs": [
    {
     "name": "stdout",
     "output_type": "stream",
     "text": [
      "t*x**2*y/(2*t + 2)\n"
     ]
    },
    {
     "data": {
      "text/latex": [
       "$\\displaystyle \\frac{t x^{2} y}{2 t + 2}$"
      ],
      "text/plain": [
       "t*x**2*y/(2*t + 2)"
      ]
     },
     "execution_count": 7,
     "metadata": {},
     "output_type": "execute_result"
    }
   ],
   "source": [
    "# double integral of the function u(x,y,t) w.r.t x and y\n",
    "x_int_u = sp.integrate(sym_fun_u, x)\n",
    "y_x_int_u = sp.integrate(x_int_u, y)\n",
    "\n",
    "print(sp.sympify(y_x_int_u))\n",
    "y_x_int_u"
   ]
  },
  {
   "cell_type": "code",
   "execution_count": 8,
   "id": "435308b8",
   "metadata": {
    "scrolled": true
   },
   "outputs": [
    {
     "name": "stdout",
     "output_type": "stream",
     "text": [
      "t*x*y**2/(2*t + 2)\n"
     ]
    },
    {
     "data": {
      "text/latex": [
       "$\\displaystyle \\frac{t x y^{2}}{2 t + 2}$"
      ],
      "text/plain": [
       "t*x*y**2/(2*t + 2)"
      ]
     },
     "execution_count": 8,
     "metadata": {},
     "output_type": "execute_result"
    }
   ],
   "source": [
    "# double integral of the function v(x,y,t) w.r.t x and y\n",
    "x_int_v = sp.integrate(sym_fun_v, x)\n",
    "y_x_int_v = sp.integrate(x_int_v, y)\n",
    "\n",
    "print(sp.sympify(y_x_int_v))\n",
    "y_x_int_v"
   ]
  },
  {
   "cell_type": "markdown",
   "id": "1001a7fd",
   "metadata": {},
   "source": [
    "#### Double integral of the solution functions defined as functions"
   ]
  },
  {
   "cell_type": "code",
   "execution_count": 9,
   "id": "efd4f5a2",
   "metadata": {},
   "outputs": [],
   "source": [
    "# need to copy these functions only in the actual code\n",
    "def d_int_p(x,y,t):\n",
    "    return x*y**2/(2*t + 2) + y*(x**2 + 2*x)/(2*t + 2)\n",
    "\n",
    "def d_int_u(x,y,t):\n",
    "    return t*x**2*y/(2*t + 2)\n",
    "\n",
    "def d_int_v(x,y,t):\n",
    "    return t*x*y**2/(2*t + 2)"
   ]
  },
  {
   "cell_type": "code",
   "execution_count": null,
   "id": "d7d928f7",
   "metadata": {},
   "outputs": [],
   "source": []
  },
  {
   "cell_type": "markdown",
   "id": "4807e78d",
   "metadata": {},
   "source": [
    "## Double integral for the forcing functions f^p(x,y,t), f^u(x,y,t), and f^v(x,y,t)"
   ]
  },
  {
   "cell_type": "code",
   "execution_count": 10,
   "id": "7a69d5a1",
   "metadata": {},
   "outputs": [
    {
     "name": "stdout",
     "output_type": "stream",
     "text": [
      "-x*y**2/(2*t**2 + 4*t + 2) + y*(16*t**2*x + 16*t*x - x**2 - 2*x)/(2*t**2 + 4*t + 2)\n"
     ]
    },
    {
     "data": {
      "text/latex": [
       "$\\displaystyle - \\frac{x y^{2}}{2 t^{2} + 4 t + 2} + \\frac{y \\left(16 t^{2} x + 16 t x - x^{2} - 2 x\\right)}{2 t^{2} + 4 t + 2}$"
      ],
      "text/plain": [
       "-x*y**2/(2*t**2 + 4*t + 2) + y*(16*t**2*x + 16*t*x - x**2 - 2*x)/(2*t**2 + 4*t + 2)"
      ]
     },
     "execution_count": 10,
     "metadata": {},
     "output_type": "execute_result"
    }
   ],
   "source": [
    "# double integral of the forcing function f_p\n",
    "x_int_forcing_f_p = sp.integrate(forcing_f_p, x)\n",
    "y_x_int_forcing_f_p = sp.integrate(x_int_forcing_f_p, y)\n",
    "\n",
    "print(sp.sympify(y_x_int_forcing_f_p))\n",
    "y_x_int_forcing_f_p"
   ]
  },
  {
   "cell_type": "code",
   "execution_count": 11,
   "id": "f52a89b5",
   "metadata": {
    "scrolled": true
   },
   "outputs": [
    {
     "name": "stdout",
     "output_type": "stream",
     "text": [
      "y*(x**2/(2*t**2 + 4*t + 2) + x/(t + 1))\n"
     ]
    },
    {
     "data": {
      "text/latex": [
       "$\\displaystyle y \\left(\\frac{x^{2}}{2 t^{2} + 4 t + 2} + \\frac{x}{t + 1}\\right)$"
      ],
      "text/plain": [
       "y*(x**2/(2*t**2 + 4*t + 2) + x/(t + 1))"
      ]
     },
     "execution_count": 11,
     "metadata": {},
     "output_type": "execute_result"
    }
   ],
   "source": [
    "# double integral of the forcing function f_u\n",
    "x_int_forcing_f_u = sp.integrate(forcing_f_u, x)\n",
    "y_x_int_forcing_f_u = sp.integrate(x_int_forcing_f_u, y)\n",
    "\n",
    "print(sp.sympify(y_x_int_forcing_f_u))\n",
    "y_x_int_forcing_f_u"
   ]
  },
  {
   "cell_type": "code",
   "execution_count": 12,
   "id": "301da52e",
   "metadata": {},
   "outputs": [
    {
     "name": "stdout",
     "output_type": "stream",
     "text": [
      "x*y**2/(2*t**2 + 4*t + 2) + x*y/(t + 1)\n"
     ]
    },
    {
     "data": {
      "text/latex": [
       "$\\displaystyle \\frac{x y^{2}}{2 t^{2} + 4 t + 2} + \\frac{x y}{t + 1}$"
      ],
      "text/plain": [
       "x*y**2/(2*t**2 + 4*t + 2) + x*y/(t + 1)"
      ]
     },
     "execution_count": 12,
     "metadata": {},
     "output_type": "execute_result"
    }
   ],
   "source": [
    "# double integral of the forcing function f_v\n",
    "x_int_forcing_f_v = sp.integrate(forcing_f_v, x)\n",
    "y_x_int_forcing_f_v = sp.integrate(x_int_forcing_f_v, y)\n",
    "\n",
    "print(sp.sympify(y_x_int_forcing_f_v))\n",
    "y_x_int_forcing_f_v"
   ]
  },
  {
   "cell_type": "markdown",
   "id": "b1655d47",
   "metadata": {},
   "source": [
    "#### Double integral of the forcing functions defined as functions "
   ]
  },
  {
   "cell_type": "code",
   "execution_count": 13,
   "id": "7737aa0a",
   "metadata": {},
   "outputs": [],
   "source": [
    "# need to copy these functions only in the actual code\n",
    "def d_int_f_p(x,y,t):\n",
    "    return -x*y**2/(2*t**2 + 4*t + 2) + y*(16*t**2*x + 16*t*x - x**2 - 2*x)/(2*t**2 + 4*t + 2)\n",
    "\n",
    "def d_int_f_u(x,y,t):\n",
    "    return y*(x**2/(2*t**2 + 4*t + 2) + x/(t + 1))\n",
    "\n",
    "def d_int_f_v(x,y,t):\n",
    "    return x*y**2/(2*t**2 + 4*t + 2) + x*y/(t + 1)"
   ]
  },
  {
   "cell_type": "markdown",
   "id": "99f829ac",
   "metadata": {},
   "source": [
    "# Comparison between point values and the cell average for both the solution functions and the forcing functions"
   ]
  },
  {
   "cell_type": "code",
   "execution_count": 14,
   "id": "881d87b6",
   "metadata": {},
   "outputs": [],
   "source": [
    "xi = 0.5; yi = 0.5; t0 = .7; dx = 0.01; dy = 0.01"
   ]
  },
  {
   "cell_type": "markdown",
   "id": "3779741d",
   "metadata": {},
   "source": [
    "#### Solution functions"
   ]
  },
  {
   "cell_type": "code",
   "execution_count": 15,
   "id": "344a8926",
   "metadata": {},
   "outputs": [
    {
     "name": "stdout",
     "output_type": "stream",
     "text": [
      "Point value of p at (xi,yi) = 1.1765 \n",
      "\n",
      "Point value of u at (xi,yi) = 0.2059 \n",
      "\n",
      "Point value of v at (xi,yi) = 0.2059 \n",
      "\n"
     ]
    }
   ],
   "source": [
    "print('Point value of p at (xi,yi) = %.4f \\n'%fun_p(xi,yi,t0))\n",
    "print('Point value of u at (xi,yi) = %.4f \\n'%fun_u(xi,yi,t0))\n",
    "print('Point value of v at (xi,yi) = %.4f \\n'%fun_v(xi,yi,t0))"
   ]
  },
  {
   "cell_type": "code",
   "execution_count": 16,
   "id": "cc68967f",
   "metadata": {},
   "outputs": [
    {
     "name": "stdout",
     "output_type": "stream",
     "text": [
      "Cell average for p at (xi,yi) = 1.1765 \n",
      "\n",
      "Cell average for u at (xi,yi) = 0.2059 \n",
      "\n",
      "Cell average for v at (xi,yi) = 0.2059 \n",
      "\n"
     ]
    }
   ],
   "source": [
    "cell_avg_p = (d_int_p(xi+dx/2,yi+dy/2,t0) + d_int_p(xi-dx/2,yi-dy/2,t0) - d_int_p(xi+dx/2,yi-dy/2,t0) \\\n",
    " - d_int_p(xi-dx/2,yi+dy/2,t0))/(dx*dy)\n",
    "\n",
    "cell_avg_u = (d_int_u(xi+dx/2,yi+dy/2,t0) + d_int_u(xi-dx/2,yi-dy/2,t0) - d_int_u(xi+dx/2,yi-dy/2,t0) \\\n",
    " - d_int_u(xi-dx/2,yi+dy/2,t0))/(dx*dy)\n",
    "\n",
    "cell_avg_v = (d_int_v(xi+dx/2,yi+dy/2,t0) + d_int_v(xi-dx/2,yi-dy/2,t0) - d_int_v(xi+dx/2,yi-dy/2,t0) \\\n",
    " - d_int_v(xi-dx/2,yi+dy/2,t0))/(dx*dy)\n",
    "\n",
    "print('Cell average for p at (xi,yi) = %.4f \\n'%cell_avg_p)\n",
    "print('Cell average for u at (xi,yi) = %.4f \\n'%cell_avg_u)\n",
    "print('Cell average for v at (xi,yi) = %.4f \\n'%cell_avg_v)"
   ]
  },
  {
   "cell_type": "markdown",
   "id": "f8b9a85f",
   "metadata": {},
   "source": [
    "#### Forcing functions"
   ]
  },
  {
   "cell_type": "code",
   "execution_count": 17,
   "id": "ce565dcc",
   "metadata": {},
   "outputs": [
    {
     "name": "stdout",
     "output_type": "stream",
     "text": [
      "Point value of f^p at (xi,yi) = 2.6021 \n",
      "\n",
      "Point value of f^u at (xi,yi) = 0.7612 \n",
      "\n",
      "Point value of f^v at (xi,yi) = 0.7612 \n",
      "\n"
     ]
    }
   ],
   "source": [
    "print('Point value of f^p at (xi,yi) = %.4f \\n'%f_p(xi,yi,t0))\n",
    "print('Point value of f^u at (xi,yi) = %.4f \\n'%f_u(xi,yi,t0))\n",
    "print('Point value of f^v at (xi,yi) = %.4f \\n'%f_v(xi,yi,t0))"
   ]
  },
  {
   "cell_type": "code",
   "execution_count": 18,
   "id": "9052c3b5",
   "metadata": {},
   "outputs": [
    {
     "name": "stdout",
     "output_type": "stream",
     "text": [
      "Cell average for f^p at (xi,yi) = 2.6021 \n",
      "\n",
      "Cell average for f^u at (xi,yi) = 0.7612 \n",
      "\n",
      "Cell average for f^v at (xi,yi) = 0.7612 \n",
      "\n"
     ]
    }
   ],
   "source": [
    "# this confirms that the cell averages for the forcing are correctly calculated\n",
    "cell_avg_f_p = (d_int_f_p(xi+dx/2,yi+dy/2,t0) + d_int_f_p(xi-dx/2,yi-dy/2,t0) - d_int_f_p(xi+dx/2,yi-dy/2,t0) \\\n",
    " - d_int_f_p(xi-dx/2,yi+dy/2,t0))/(dx*dy)\n",
    "\n",
    "cell_avg_f_u = (d_int_f_u(xi+dx/2,yi+dy/2,t0) + d_int_f_u(xi-dx/2,yi-dy/2,t0) - d_int_f_u(xi+dx/2,yi-dy/2,t0) \\\n",
    " - d_int_f_u(xi-dx/2,yi+dy/2,t0))/(dx*dy)\n",
    "\n",
    "cell_avg_f_v = (d_int_f_v(xi+dx/2,yi+dy/2,t0) + d_int_f_v(xi-dx/2,yi-dy/2,t0) - d_int_f_v(xi+dx/2,yi-dy/2,t0) \\\n",
    " - d_int_f_v(xi-dx/2,yi+dy/2,t0))/(dx*dy)\n",
    "\n",
    "print('Cell average for f^p at (xi,yi) = %.4f \\n'%cell_avg_f_p)\n",
    "print('Cell average for f^u at (xi,yi) = %.4f \\n'%cell_avg_f_u)\n",
    "print('Cell average for f^v at (xi,yi) = %.4f \\n'%cell_avg_f_v)"
   ]
  },
  {
   "cell_type": "markdown",
   "id": "6daa97e6",
   "metadata": {},
   "source": [
    "### Compute the double integral numerically and verify"
   ]
  },
  {
   "cell_type": "code",
   "execution_count": 19,
   "id": "d41dd6c1",
   "metadata": {},
   "outputs": [],
   "source": [
    "math_forcing_f_p = sp.lambdify((x,y,t),forcing_f_p) # making the function mathematical\n",
    "math_forcing_f_u = sp.lambdify((x,y,t),forcing_f_u)\n",
    "math_forcing_f_v = sp.lambdify((x,y,t),forcing_f_v)"
   ]
  },
  {
   "cell_type": "code",
   "execution_count": 20,
   "id": "3aa67781",
   "metadata": {},
   "outputs": [
    {
     "name": "stdout",
     "output_type": "stream",
     "text": [
      "2.6020761245674784\n"
     ]
    }
   ],
   "source": [
    "from scipy import integrate\n",
    "\n",
    "x_low = xi-dx/2; x_up = xi+dx/2\n",
    "y_low = yi-dy/2; y_up = yi+dy/2\n",
    "\n",
    "# Compute the double integral\n",
    "result_p, error_p = integrate.dblquad(lambda y, x: math_forcing_f_p(x, y, t0), x_low,x_up,y_low,y_up)\n",
    "\n",
    "# Print the result\n",
    "print(result_p/(dx*dy))\n"
   ]
  },
  {
   "cell_type": "code",
   "execution_count": 21,
   "id": "2f37838d",
   "metadata": {},
   "outputs": [
    {
     "name": "stdout",
     "output_type": "stream",
     "text": [
      "0.7612456747404858\n"
     ]
    }
   ],
   "source": [
    "x_low = xi-dx/2; x_up = xi+dx/2\n",
    "y_low = yi-dy/2; y_up = yi+dy/2\n",
    "\n",
    "# Compute the double integral\n",
    "result_u, error_u = integrate.dblquad(lambda y, x: math_forcing_f_u(x, y, t0), x_low,x_up,y_low,y_up)\n",
    "\n",
    "# Print the result\n",
    "print(result_u/(dx*dy))"
   ]
  },
  {
   "cell_type": "code",
   "execution_count": 22,
   "id": "aa77d6fc",
   "metadata": {},
   "outputs": [
    {
     "name": "stdout",
     "output_type": "stream",
     "text": [
      "0.7612456747404858\n"
     ]
    }
   ],
   "source": [
    "x_low = xi-dx/2; x_up = xi+dx/2\n",
    "y_low = yi-dy/2; y_up = yi+dy/2\n",
    "\n",
    "# Compute the double integral\n",
    "result_v, error_v = integrate.dblquad(lambda y, x: math_forcing_f_v(x, y, t0), x_low,x_up,y_low,y_up)\n",
    "\n",
    "# Print the result\n",
    "print(result_v/(dx*dy))"
   ]
  },
  {
   "cell_type": "markdown",
   "id": "5f3f7a6c",
   "metadata": {},
   "source": []
  },
  {
   "cell_type": "code",
   "execution_count": null,
   "id": "1c769828",
   "metadata": {},
   "outputs": [],
   "source": []
  }
 ],
 "metadata": {
  "kernelspec": {
   "display_name": "Python 3 (ipykernel)",
   "language": "python",
   "name": "python3"
  },
  "language_info": {
   "codemirror_mode": {
    "name": "ipython",
    "version": 3
   },
   "file_extension": ".py",
   "mimetype": "text/x-python",
   "name": "python",
   "nbconvert_exporter": "python",
   "pygments_lexer": "ipython3",
   "version": "3.8.13"
  }
 },
 "nbformat": 4,
 "nbformat_minor": 5
}
