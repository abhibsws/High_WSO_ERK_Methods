{
 "cells": [
  {
   "cell_type": "code",
   "execution_count": 2,
   "id": "c552b970-0554-4c1f-ba56-a63c5f98b665",
   "metadata": {},
   "outputs": [],
   "source": [
    "from scipy.io import loadmat\n",
    "from nodepy import rk\n",
    "import numpy as np"
   ]
  },
  {
   "cell_type": "code",
   "execution_count": 22,
   "id": "bbcf9589-ba1e-4b0f-acca-4fc8cdf992ce",
   "metadata": {},
   "outputs": [
    {
     "data": {
      "text/plain": [
       "0.9999999999308784"
      ]
     },
     "execution_count": 22,
     "metadata": {},
     "output_type": "execute_result"
    }
   ],
   "source": [
    "A = np.array([[0,0,0],[(1/2),0,0],[1,0,0]])\n",
    "b = np.array([-1/2, 2, -1/2])\n",
    "rk322 = rk.ExplicitRungeKuttaMethod(A,b)\n",
    "rk322.linear_absolute_monotonicity_radius()"
   ]
  },
  {
   "cell_type": "code",
   "execution_count": 3,
   "id": "6e0423bb-97da-42d1-a062-e7976075aedb",
   "metadata": {},
   "outputs": [
    {
     "data": {
      "text/plain": [
       "0.9999999999308784"
      ]
     },
     "execution_count": 3,
     "metadata": {},
     "output_type": "execute_result"
    }
   ],
   "source": [
    "ssp33 = rk.loadRKM('SSP33')\n",
    "ssp33.linear_absolute_monotonicity_radius()"
   ]
  },
  {
   "cell_type": "code",
   "execution_count": 23,
   "id": "a0a29458-6e8e-43cb-bb68-43c1f5f97f39",
   "metadata": {},
   "outputs": [
    {
     "data": {
      "text/plain": [
       "0.9999999999308784"
      ]
     },
     "execution_count": 23,
     "metadata": {},
     "output_type": "execute_result"
    }
   ],
   "source": [
    "A = np.array([[0,0,0,0],[(3/10),0,0,0],[(2/3),0,0,0],[(-21/320),(45/44),(-729/3520),0]])\n",
    "b = np.array([(7/108),(500/891),(-27/44),(80/81)])\n",
    "rk432 = rk.ExplicitRungeKuttaMethod(A,b)\n",
    "rk432.linear_absolute_monotonicity_radius()"
   ]
  },
  {
   "cell_type": "code",
   "execution_count": 6,
   "id": "1ceac81b-2bc1-4fbf-97fa-cd52cd2d9e51",
   "metadata": {},
   "outputs": [
    {
     "data": {
      "text/plain": [
       "0.9999999999308784"
      ]
     },
     "execution_count": 6,
     "metadata": {},
     "output_type": "execute_result"
    }
   ],
   "source": [
    "# Skvortsov's ERK312\n",
    "A = np.array([[0,0,0,0],[1/2,0,0,0],[1,0,0,0],[-1/2,2,-1/2,0]])\n",
    "b = np.array([1/6,2/3,-1/6,1/3])\n",
    "rk312 = rk.ExplicitRungeKuttaMethod(A,b)\n",
    "rk312.linear_absolute_monotonicity_radius()"
   ]
  },
  {
   "cell_type": "code",
   "execution_count": 25,
   "id": "2028cd95-d2ba-4400-965f-7f32f2cbe344",
   "metadata": {},
   "outputs": [
    {
     "data": {
      "text/plain": [
       "0.9999999999308784"
      ]
     },
     "execution_count": 25,
     "metadata": {},
     "output_type": "execute_result"
    }
   ],
   "source": [
    "A = np.array([[0,0,0,0,0],\n",
    "              [(3/11),0,0,0,0],\n",
    "              [(285645/493487),(103950/493487),0,0,0],\n",
    "              [(3075805/5314896),(1353275/5314896),0,0,0],\n",
    "              [(196687/177710),(-129383023/426077496),(48013/42120),(-2268/2405),0]])\n",
    "b = np.array([(5626/4725),(-25289/13608),(569297/340200),(324/175),(-13/7)])\n",
    "rk533 = rk.ExplicitRungeKuttaMethod(A,b)\n",
    "rk533.linear_absolute_monotonicity_radius()"
   ]
  },
  {
   "cell_type": "code",
   "execution_count": 8,
   "id": "84d0288c-0a1e-4287-8ad6-b9387353db31",
   "metadata": {},
   "outputs": [
    {
     "data": {
      "text/plain": [
       "0.9999999999308784"
      ]
     },
     "execution_count": 8,
     "metadata": {},
     "output_type": "execute_result"
    }
   ],
   "source": [
    "# Skvortsov's ERK313\n",
    "A = np.array([[0,0,0,0,0],[1/3,0,0,0,0],[2/3,0,0,0,0],[1,0,0,0,0],[-11/12,3/2,-3/4,1/6,0]])\n",
    "b = np.array([1/4,-3,15/4,-1,1])\n",
    "rk313 = rk.ExplicitRungeKuttaMethod(A,b)\n",
    "rk313.linear_absolute_monotonicity_radius()"
   ]
  },
  {
   "cell_type": "code",
   "execution_count": 9,
   "id": "03e0c992-e638-4a27-8b94-59dc8a95c0d7",
   "metadata": {},
   "outputs": [
    {
     "data": {
      "text/plain": [
       "0.9999999999308784"
      ]
     },
     "execution_count": 9,
     "metadata": {},
     "output_type": "execute_result"
    }
   ],
   "source": [
    "rk4 = rk.loadRKM('RK44')\n",
    "rk4.linear_absolute_monotonicity_radius()"
   ]
  },
  {
   "cell_type": "code",
   "execution_count": 13,
   "id": "5fba1513-6565-41c4-9714-0874984fb07f",
   "metadata": {},
   "outputs": [
    {
     "data": {
      "text/plain": [
       "0.9999999999308784"
      ]
     },
     "execution_count": 13,
     "metadata": {},
     "output_type": "execute_result"
    }
   ],
   "source": [
    "rk643 = loadmat('./ExMthd_s6p4q3.mat')\n",
    "rk643 = rk.ExplicitRungeKuttaMethod(rk643['A'], rk643['b'].squeeze())\n",
    "rk643.linear_absolute_monotonicity_radius()"
   ]
  },
  {
   "cell_type": "code",
   "execution_count": 10,
   "id": "250b758d-547a-46fa-98b1-778d2e5f1c77",
   "metadata": {},
   "outputs": [
    {
     "data": {
      "text/plain": [
       "0.9999999999308784"
      ]
     },
     "execution_count": 10,
     "metadata": {},
     "output_type": "execute_result"
    }
   ],
   "source": [
    "A = np.array([[0, 0, 0, 0, 0, 0, 0],\n",
    "                [13/15, 0, 0, 0, 0, 0, 0],\n",
    "                [12603078031712033723970154667732315345979717833/24160502835995108267237194998715463575206403200,\n",
    "                1048907966089364624562691286403757878851144981/72481508507985324801711584996146390725619209600,\n",
    "                0, 0, 0, 0, 0],\n",
    "                [599677/612720, 1/185, 1/69, 0, 0, 0, 0],\n",
    "                [424559865415888618629601372734144061495213187/3221400378132681102298292666495395143360853760,\n",
    "                2833374238559988231687781191318699943620201/644280075626536220459658533299079028672170752,\n",
    "                10939005/8358742409, 0, 0, 0, 0],\n",
    "                [-57910884850960710216615685584299594389734738212701891/143200771200355662082106164157818074407670810332226816,\n",
    "                1058112267371143700865117923757427517682611842306739/12613539432155680079771009278149778574768931480040704,\n",
    "                -16209173194776291095/101264438213449707492,-32817015/650336938, 19/34, 0, 0],\n",
    "                [265884392436244759286808856348403413175819281494905197368751/270149059788838487928804328430790305367090530076692853841920,\n",
    "                -79382446353850270662474337268761271598625606923168650489267/55522863756255233270341476827744466906189590810235664261120,\n",
    "                60065272366553932534499312161/31525704659895735897804153776,181308146225/261301556177, -88/41, 51/64, 0]\n",
    "                ])\n",
    "b = np.array([(-124664924851382288077728137/37822531451473304797511250),(60663184710162550730781989/9804158397668360944968750),(-276006970775403888708156064/46485365179396605438524625),(-265040017375280744373155776/74664519359574416777071875),(100421079686366171194956352/16321974107859175324078125),(57748716265592512/317670660091351875),(3694532608/2928669975)])\n",
    "rk744 = rk.ExplicitRungeKuttaMethod(A,b)\n",
    "rk744.linear_absolute_monotonicity_radius()"
   ]
  },
  {
   "cell_type": "code",
   "execution_count": 12,
   "id": "e263eca8-2102-444d-a3a1-e157e18a225d",
   "metadata": {},
   "outputs": [
    {
     "data": {
      "text/plain": [
       "0.8333333333212067"
      ]
     },
     "execution_count": 12,
     "metadata": {},
     "output_type": "execute_result"
    }
   ],
   "source": [
    "dp5 = rk.loadRKM('DP5')\n",
    "dp5.linear_absolute_monotonicity_radius()"
   ]
  },
  {
   "cell_type": "code",
   "execution_count": 13,
   "id": "ef6cfc93-9e09-4ecb-a586-f19f41e18457",
   "metadata": {},
   "outputs": [
    {
     "data": {
      "text/plain": [
       "0.9999999999308784"
      ]
     },
     "execution_count": 13,
     "metadata": {},
     "output_type": "execute_result"
    }
   ],
   "source": [
    "A = np.array([\n",
    "            [0,0,0,0,0,0,0,0,0],\n",
    "            [(1/19),0,0,0,0,0,0,0,0],\n",
    "            [(1/6),0,0,0,0,0,0,0,0],\n",
    "            [(5/16),0,0,0,0,0,0,0,0],\n",
    "            [(1/2),0,0,0,0,0,0,0,0],\n",
    "            [(11/16),0,0,0,0,0,0,0,0],\n",
    "            [(11448031/2850816),(-67411795275/16590798848),(51073011/43237376),(-23353/64148),(583825/8077312),(-1/116),0,0,0],\n",
    "            [(30521441823091/1986340257792),(-745932230071621375/35792226257928192),(42324456085/5966757888),(775674925/6453417096),(-38065236125/28020473856),(18388001255/24775053336),(-25/138),0,0],\n",
    "            [(544015925591990906117739018863/21097279127167116142731264000),(-51819957177912933732533469147783191/1292529408768612025127952939417600),(15141148893501140337719772533/769541606770966638202880000),(-22062343808701233885761491/5740046662014404900523000),(-180818957612953115541011736739/146721986657116762265358336000),(18393837528018836258241002593/22366927394951953576613895000),(-14372715851/701966192290),(-3316780581/34682124125),0]\n",
    "            ])\n",
    "b = np.array([(201919428075343316424206867/7205146638186855485778750),(-979811820279525173317561445351/23232888464237446713644747250),(-659616477161155066954978/262813990730721440278125),(10343523856053877739219144704/232857239079584284108576875),(-2224588357354685208355760476/50108519801935858605643125),(704220346724742597999572733952/31288349276326419946994221875),(-13778944/1751475),(92889088/11941875),(-714103988224/149255126145)])\n",
    "rk955 = rk.ExplicitRungeKuttaMethod(A,b)\n",
    "rk955.linear_absolute_monotonicity_radius()"
   ]
  },
  {
   "cell_type": "code",
   "execution_count": null,
   "id": "c1fee412-3fda-46cb-87ef-5084da350865",
   "metadata": {},
   "outputs": [],
   "source": []
  }
 ],
 "metadata": {
  "kernelspec": {
   "display_name": "Python 3 (ipykernel)",
   "language": "python",
   "name": "python3"
  },
  "language_info": {
   "codemirror_mode": {
    "name": "ipython",
    "version": 3
   },
   "file_extension": ".py",
   "mimetype": "text/x-python",
   "name": "python",
   "nbconvert_exporter": "python",
   "pygments_lexer": "ipython3",
   "version": "3.11.4"
  }
 },
 "nbformat": 4,
 "nbformat_minor": 5
}
